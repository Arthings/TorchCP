{
 "cells": [
  {
   "cell_type": "code",
   "execution_count": 1,
   "metadata": {},
   "outputs": [
    {
     "ename": "ImportError",
     "evalue": "attempted relative import with no known parent package",
     "output_type": "error",
     "traceback": [
      "\u001b[0;31m---------------------------------------------------------------------------\u001b[0m",
      "\u001b[0;31mImportError\u001b[0m                               Traceback (most recent call last)",
      "\u001b[1;32m/home/huangjg/CPLibrary/deepcp/deepcp_examples/imagenet_example.ipynb Cell 1\u001b[0m line \u001b[0;36m9\n\u001b[1;32m      <a href='vscode-notebook-cell://ssh-remote%2B129/home/huangjg/CPLibrary/deepcp/deepcp_examples/imagenet_example.ipynb#W0sdnNjb2RlLXJlbW90ZQ%3D%3D?line=5'>6</a>\u001b[0m \u001b[39mimport\u001b[39;00m \u001b[39mtorchvision\u001b[39;00m\u001b[39m.\u001b[39;00m\u001b[39mtransforms\u001b[39;00m \u001b[39mas\u001b[39;00m \u001b[39mtrn\u001b[39;00m\n\u001b[1;32m      <a href='vscode-notebook-cell://ssh-remote%2B129/home/huangjg/CPLibrary/deepcp/deepcp_examples/imagenet_example.ipynb#W0sdnNjb2RlLXJlbW90ZQ%3D%3D?line=6'>7</a>\u001b[0m \u001b[39mimport\u001b[39;00m \u001b[39mtorchvision\u001b[39;00m\u001b[39m.\u001b[39;00m\u001b[39mdatasets\u001b[39;00m \u001b[39mas\u001b[39;00m \u001b[39mdset\u001b[39;00m\n\u001b[0;32m----> <a href='vscode-notebook-cell://ssh-remote%2B129/home/huangjg/CPLibrary/deepcp/deepcp_examples/imagenet_example.ipynb#W0sdnNjb2RlLXJlbW90ZQ%3D%3D?line=8'>9</a>\u001b[0m \u001b[39mfrom\u001b[39;00m \u001b[39m.\u001b[39;00m\u001b[39m.\u001b[39;00m\u001b[39mdeepcp\u001b[39;00m\u001b[39m.\u001b[39;00m\u001b[39mclassification\u001b[39;00m\u001b[39m.\u001b[39;00m\u001b[39mpredictor\u001b[39;00m \u001b[39mimport\u001b[39;00m StandardPredictor  \n",
      "\u001b[0;31mImportError\u001b[0m: attempted relative import with no known parent package"
     ]
    }
   ],
   "source": [
    "import os\n",
    "from tqdm import tqdm\n",
    "\n",
    "import torch\n",
    "import torchvision\n",
    "import torchvision.transforms as trn\n",
    "import torchvision.datasets as dset\n",
    "\n",
    "from ..deepcp.classification.predictor import StandardPredictor  "
   ]
  },
  {
   "cell_type": "code",
   "execution_count": null,
   "metadata": {},
   "outputs": [],
   "source": [
    "# load dataset\n",
    "test_transform = trn.Compose([trn.Resize(256),\n",
    "                                trn.CenterCrop(224),\n",
    "                                trn.ToTensor(),\n",
    "                                trn.Normalize(mean=[0.485, 0.456, 0.406],\n",
    "                                            std =[0.229, 0.224, 0.225])\n",
    "                                ])\n",
    "usr_dir = os.path.expanduser('~')\n",
    "data_dir = os.path.join(usr_dir,\"data\")\n",
    "dataset = dset.ImageFolder(data_dir+\"/imagenet/val\", \n",
    "                                    test_transform)\n",
    "dataset = torch.utils.data.Subset(dataset, range(100))\n",
    "\n",
    "data_loader = torch.utils.data.DataLoader(dataset, batch_size = 320, shuffle=False, pin_memory=True)\n",
    "\n",
    "# load model\n",
    "model_name = 'ResNet101'\n",
    "model = torchvision.models.resnet101(weights=\"IMAGENET1K_V1\", progress=True)"
   ]
  },
  {
   "cell_type": "code",
   "execution_count": null,
   "metadata": {},
   "outputs": [
    {
     "name": "stderr",
     "output_type": "stream",
     "text": [
      "100%|██████████| 1/1 [00:04<00:00,  4.98s/it]\n"
     ]
    }
   ],
   "source": [
    "logits_list = []\n",
    "labels_list = []\n",
    "with torch.no_grad():\n",
    "    for examples in tqdm(data_loader):\n",
    "        tmp_x, tmp_label = examples[0], examples[1]            \n",
    "        tmp_logits = model(tmp_x)\n",
    "        logits_list.append(tmp_logits)\n",
    "        labels_list.append(tmp_label)\n",
    "\n",
    "\n",
    "logits = torch.cat(logits_list)\n",
    "labels = torch.cat(labels_list)"
   ]
  },
  {
   "cell_type": "code",
   "execution_count": null,
   "metadata": {},
   "outputs": [
    {
     "data": {
      "text/plain": [
       "torch.Size([100, 1000])"
      ]
     },
     "execution_count": 21,
     "metadata": {},
     "output_type": "execute_result"
    }
   ],
   "source": []
  },
  {
   "cell_type": "code",
   "execution_count": null,
   "metadata": {},
   "outputs": [],
   "source": []
  }
 ],
 "metadata": {
  "kernelspec": {
   "display_name": "deepcp",
   "language": "python",
   "name": "python3"
  },
  "language_info": {
   "codemirror_mode": {
    "name": "ipython",
    "version": 3
   },
   "file_extension": ".py",
   "mimetype": "text/x-python",
   "name": "python",
   "nbconvert_exporter": "python",
   "pygments_lexer": "ipython3",
   "version": "3.9.18"
  }
 },
 "nbformat": 4,
 "nbformat_minor": 2
}
